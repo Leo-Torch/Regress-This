{
 "cells": [
  {
   "cell_type": "markdown",
   "source": [
    "# Regression Using ML"
   ],
   "metadata": {}
  },
  {
   "cell_type": "code",
   "execution_count": 118,
   "source": [
    "import pandas as pd\r\n",
    "import matplotlib.pyplot as plt\r\n",
    "import numpy as np\r\n",
    "\r\n",
    "np.set_printoptions(precision=3, suppress=True)"
   ],
   "outputs": [],
   "metadata": {}
  },
  {
   "cell_type": "code",
   "execution_count": 119,
   "source": [
    "import tensorflow as tf\r\n",
    "\r\n",
    "from tensorflow import keras\r\n",
    "from tensorflow.keras import layers\r\n",
    "from tensorflow.keras.layers.experimental import preprocessing\r\n",
    "\r\n",
    "print(tf.__version__)"
   ],
   "outputs": [
    {
     "output_type": "stream",
     "name": "stdout",
     "text": [
      "2.5.0\n"
     ]
    }
   ],
   "metadata": {}
  },
  {
   "cell_type": "code",
   "execution_count": 120,
   "source": [
    "raw_train = pd.read_csv('../data/train.csv')\r\n",
    "raw_test = pd.read_csv('../data/test.csv')\r\n",
    "\r\n",
    "train_data = raw_train.copy()\r\n",
    "test_data = raw_test.copy()\r\n",
    "\r\n",
    "train_features = train_data.copy()\r\n",
    "test_features = test_data.copy()\r\n",
    "\r\n",
    "train_labels = train_features.pop('Distance')\r\n",
    "test_labels = test_features.pop('Distance')"
   ],
   "outputs": [],
   "metadata": {}
  },
  {
   "cell_type": "code",
   "execution_count": 121,
   "source": [
    "words = train['Fancy Words']\r\n",
    "dist = train['Distance']\r\n",
    "\r\n",
    "plt.figure()\r\n",
    "plt.xlabel('Fancy Words')\r\n",
    "plt.ylabel('Distance')\r\n",
    "plt.title('Raw Data')\r\n",
    "plt.scatter(words, dist)"
   ],
   "outputs": [
    {
     "output_type": "execute_result",
     "data": {
      "text/plain": [
       "<matplotlib.collections.PathCollection at 0x1e444047e80>"
      ]
     },
     "metadata": {},
     "execution_count": 121
    },
    {
     "output_type": "display_data",
     "data": {
      "text/plain": [
       "<Figure size 432x288 with 1 Axes>"
      ],
      "image/png": "[encoded data removed]"
     },
     "metadata": {
      "needs_background": "light"
     }
    }
   ],
   "metadata": {}
  },
  {
   "cell_type": "code",
   "execution_count": 122,
   "source": [
    "fancy_words = np.array(train_features['Fancy Words'])\r\n",
    "\r\n",
    "word_normalizer = preprocessing.Normalization(input_shape=[1,], axis=None)\r\n",
    "word_normalizer.adapt(fancy_words)"
   ],
   "outputs": [],
   "metadata": {}
  },
  {
   "cell_type": "code",
   "execution_count": 123,
   "source": [
    "word_model = tf.keras.Sequential([\r\n",
    "    word_normalizer,\r\n",
    "    layers.Dense(units=1)\r\n",
    "])\r\n",
    "\r\n",
    "word_model.summary()"
   ],
   "outputs": [
    {
     "output_type": "stream",
     "name": "stdout",
     "text": [
      "Model: \"sequential_6\"\n",
      "_________________________________________________________________\n",
      "Layer (type)                 Output Shape              Param #   \n",
      "=================================================================\n",
      "normalization_10 (Normalizat (None, 1)                 3         \n",
      "_________________________________________________________________\n",
      "dense_6 (Dense)              (None, 1)                 2         \n",
      "=================================================================\n",
      "Total params: 5\n",
      "Trainable params: 2\n",
      "Non-trainable params: 3\n",
      "_________________________________________________________________\n"
     ]
    }
   ],
   "metadata": {}
  },
  {
   "cell_type": "code",
   "execution_count": 124,
   "source": [
    "word_model.predict(fancy_words)\r\n",
    "\r\n",
    "word_model.compile(\r\n",
    "    optimizer=tf.optimizers.Adam(learning_rate=0.1),\r\n",
    "    loss='mean_absolute_error'\r\n",
    ")"
   ],
   "outputs": [],
   "metadata": {}
  },
  {
   "cell_type": "code",
   "execution_count": 125,
   "source": [
    "history = word_model.fit(\r\n",
    "    train_features['Fancy Words'], train_labels,\r\n",
    "    epochs = 700,\r\n",
    "    verbose = 0,\r\n",
    "    validation_split = 0.2\r\n",
    ")"
   ],
   "outputs": [],
   "metadata": {}
  },
  {
   "cell_type": "code",
   "execution_count": 126,
   "source": [
    "hist = pd.DataFrame(history.history)\r\n",
    "hist['epoch'] = history.epoch\r\n",
    "hist.tail()"
   ],
   "outputs": [
    {
     "output_type": "execute_result",
     "data": {
      "text/plain": [
       "         loss  val_loss  epoch\n",
       "695  2.261752  2.247039    695\n",
       "696  2.262001  2.219971    696\n",
       "697  2.262138  2.221533    697\n",
       "698  2.261982  2.193272    698\n",
       "699  2.263206  2.217352    699"
      ],
      "text/html": [
       "<div>\n",
       "<style scoped>\n",
       "    .dataframe tbody tr th:only-of-type {\n",
       "        vertical-align: middle;\n",
       "    }\n",
       "\n",
       "    .dataframe tbody tr th {\n",
       "        vertical-align: top;\n",
       "    }\n",
       "\n",
       "    .dataframe thead th {\n",
       "        text-align: right;\n",
       "    }\n",
       "</style>\n",
       "<table border=\"1\" class=\"dataframe\">\n",
       "  <thead>\n",
       "    <tr style=\"text-align: right;\">\n",
       "      <th></th>\n",
       "      <th>loss</th>\n",
       "      <th>val_loss</th>\n",
       "      <th>epoch</th>\n",
       "    </tr>\n",
       "  </thead>\n",
       "  <tbody>\n",
       "    <tr>\n",
       "      <th>695</th>\n",
       "      <td>2.261752</td>\n",
       "      <td>2.247039</td>\n",
       "      <td>695</td>\n",
       "    </tr>\n",
       "    <tr>\n",
       "      <th>696</th>\n",
       "      <td>2.262001</td>\n",
       "      <td>2.219971</td>\n",
       "      <td>696</td>\n",
       "    </tr>\n",
       "    <tr>\n",
       "      <th>697</th>\n",
       "      <td>2.262138</td>\n",
       "      <td>2.221533</td>\n",
       "      <td>697</td>\n",
       "    </tr>\n",
       "    <tr>\n",
       "      <th>698</th>\n",
       "      <td>2.261982</td>\n",
       "      <td>2.193272</td>\n",
       "      <td>698</td>\n",
       "    </tr>\n",
       "    <tr>\n",
       "      <th>699</th>\n",
       "      <td>2.263206</td>\n",
       "      <td>2.217352</td>\n",
       "      <td>699</td>\n",
       "    </tr>\n",
       "  </tbody>\n",
       "</table>\n",
       "</div>"
      ]
     },
     "metadata": {},
     "execution_count": 126
    }
   ],
   "metadata": {}
  },
  {
   "cell_type": "code",
   "execution_count": 127,
   "source": [
    "def plot_loss(history):\r\n",
    "    plt.figure()\r\n",
    "    plt.plot(history.history['loss'], label='loss')\r\n",
    "    plt.plot(history.history['val_loss'], label='val_loss')\r\n",
    "    plt.xlabel('Epoch')\r\n",
    "    plt.ylabel('Error [Distance]')\r\n",
    "    plt.legend()\r\n",
    "    plt.grid(True)\r\n",
    "\r\n",
    "plot_loss(history)"
   ],
   "outputs": [
    {
     "output_type": "display_data",
     "data": {
      "text/plain": [
       "<Figure size 432x288 with 1 Axes>"
      ],
      "image/png": "[encoded data removed]"
     },
     "metadata": {
      "needs_background": "light"
     }
    }
   ],
   "metadata": {}
  },
  {
   "cell_type": "code",
   "execution_count": 128,
   "source": [
    "test_results = {}\r\n",
    "\r\n",
    "test_results['word_model'] = word_model.evaluate(\r\n",
    "    test_features['Fancy Words'],\r\n",
    "    test_labels, verbose=0\r\n",
    ")"
   ],
   "outputs": [],
   "metadata": {}
  },
  {
   "cell_type": "code",
   "execution_count": 129,
   "source": [
    "x = tf.linspace(0.0, 100, 101)\r\n",
    "y = word_model.predict(x)"
   ],
   "outputs": [],
   "metadata": {}
  },
  {
   "cell_type": "code",
   "execution_count": 130,
   "source": [
    "def plot_words(x, y):\r\n",
    "    plt.figure()\r\n",
    "    plt.scatter(train_features['Fancy Words'], train_labels, label='Data')\r\n",
    "    plt.plot(x, y,  label='Predictions', color='lightcoral', linewidth=4)\r\n",
    "    plt.xlabel('Fancy Words')\r\n",
    "    plt.ylabel('Distance')\r\n",
    "    plt.legend()\r\n",
    "\r\n",
    "plot_words(x, y)"
   ],
   "outputs": [
    {
     "output_type": "display_data",
     "data": {
      "text/plain": [
       "<Figure size 432x288 with 1 Axes>"
      ],
      "image/png": "[encoded data removed]"
     },
     "metadata": {
      "needs_background": "light"
     }
    }
   ],
   "metadata": {}
  }
 ],
 "metadata": {
  "orig_nbformat": 4,
  "language_info": {
   "name": "python",
   "version": "3.9.1",
   "mimetype": "text/x-python",
   "codemirror_mode": {
    "name": "ipython",
    "version": 3
   },
   "pygments_lexer": "ipython3",
   "nbconvert_exporter": "python",
   "file_extension": ".py"
  },
  "kernelspec": {
   "name": "python3",
   "display_name": "Python 3.9.1 64-bit ('env': venv)"
  },
  "interpreter": {
   "hash": "673066f13f69f790f446ab3926f8f083a9a570a150a7fcb0adee039a916e6633"
  }
 },
 "nbformat": 4,
 "nbformat_minor": 2
}