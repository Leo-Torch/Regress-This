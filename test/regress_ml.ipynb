{
 "cells": [
  {
   "cell_type": "code",
   "execution_count": 42,
   "source": [
    "import pandas as pd\r\n",
    "import matplotlib.pyplot as plt\r\n",
    "import numpy as np\r\n",
    "\r\n",
    "np.set_printoptions(precision=3, suppress=True)"
   ],
   "outputs": [],
   "metadata": {}
  },
  {
   "cell_type": "code",
   "execution_count": 43,
   "source": [
    "import tensorflow as tf\r\n",
    "\r\n",
    "from tensorflow import keras\r\n",
    "from tensorflow.keras import layers\r\n",
    "from tensorflow.keras.layers.experimental import preprocessing\r\n",
    "\r\n",
    "print(tf.__version__)"
   ],
   "outputs": [
    {
     "output_type": "stream",
     "name": "stdout",
     "text": [
      "2.5.0\n"
     ]
    }
   ],
   "metadata": {}
  },
  {
   "cell_type": "code",
   "execution_count": 44,
   "source": [
    "raw_train = pd.read_csv('data/train.csv')\r\n",
    "train = raw_train.copy()\r\n",
    "train_labels = train.pop('Epoch')"
   ],
   "outputs": [],
   "metadata": {}
  },
  {
   "cell_type": "code",
   "execution_count": 45,
   "source": [
    "words = train['Fancy Words']\r\n",
    "dist = train['Distance']\r\n",
    "\r\n",
    "plt.scatter(words, dist)\r\n",
    "\r\n",
    "plt.xlabel('Fancy Words')\r\n",
    "plt.ylabel('Distance')\r\n",
    "plt.title('Regression')"
   ],
   "outputs": [
    {
     "output_type": "execute_result",
     "data": {
      "text/plain": [
       "Text(0.5, 1.0, 'Regression')"
      ]
     },
     "metadata": {},
     "execution_count": 45
    },
    {
     "output_type": "display_data",
     "data": {
      "text/plain": [
       "<Figure size 432x288 with 1 Axes>"
      ],
      "image/png": "[encoded data removed]"
     },
     "metadata": {
      "needs_background": "light"
     }
    }
   ],
   "metadata": {}
  },
  {
   "cell_type": "code",
   "execution_count": 46,
   "source": [
    "normalizer = preprocessing.Normalization(axis=-1)\r\n",
    "normalizer.adapt(np.array(train))\r\n",
    "print(normalizer.mean.numpy())"
   ],
   "outputs": [
    {
     "output_type": "stream",
     "name": "stdout",
     "text": [
      "[51.     1.766]\n"
     ]
    }
   ],
   "metadata": {}
  },
  {
   "cell_type": "code",
   "execution_count": null,
   "source": [],
   "outputs": [],
   "metadata": {}
  }
 ],
 "metadata": {
  "orig_nbformat": 4,
  "language_info": {
   "name": "python",
   "version": "3.9.1",
   "mimetype": "text/x-python",
   "codemirror_mode": {
    "name": "ipython",
    "version": 3
   },
   "pygments_lexer": "ipython3",
   "nbconvert_exporter": "python",
   "file_extension": ".py"
  },
  "kernelspec": {
   "name": "python3",
   "display_name": "Python 3.9.1 64-bit ('env': venv)"
  },
  "interpreter": {
   "hash": "67acc8af0e27ed6f57271118d33e13a0ffcc46c6f6418a0b8bd29a6697b7e459"
  }
 },
 "nbformat": 4,
 "nbformat_minor": 2
}